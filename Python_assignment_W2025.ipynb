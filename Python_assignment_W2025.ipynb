{
 "cells": [
  {
   "cell_type": "markdown",
   "id": "6aab96f5-496d-4629-8061-8af00fec4079",
   "metadata": {},
   "source": [
    "# Bonus assignment:"
   ]
  },
  {
   "cell_type": "markdown",
   "id": "b52817ba-53b9-4980-b921-2f3d6229c257",
   "metadata": {},
   "source": [
    "**BIOL365 Winter 2025** \\\n",
    "**Due date: March 31, 2025 (11:59 PM)** \n",
    "\n",
    "**Total marks: /30**\n",
    "\n",
    "This notebook contains all questions for the BIOL365 bonus assignment. \n",
    "\n",
    "Answers should be typed in the indicated code and markdown blocks. You can create additional code blocks if needed. There is no need to save outputs separately, unless otherwise specified.\n",
    "\n",
    "**IMPORTANT NOTES**:\n",
    "\n",
    "- **Do not ask the TAs** for help on this assignment, they are not responsible for anything in the bonus module.\n",
    "\n",
    "- **Attempt to troubleshoot any issues yourself first**. Most error messages can be solved by a quick google search. Stackoverflow is your friend. \n",
    "\n",
    "- If that doesn't work, **check the LEARN discussion forum**. I will be posting solutions to common issues there. \n",
    "\n",
    "- If you're still stuck, email Molly or go to office hours. It helps if you can provide screenshots and describe what you've already tried. \n",
    "\n",
    "- Marks are given for **final answers** only. No part marks awarded for code that fails to run!\n",
    "\n",
    "- In the same vein, I am not specifically marking for adherence to good coding practices (e.g., formatting style). However, **I will be reviewing the code for originality**. Evidence of plagiarism will lead to a 0 on the assignment. Properly documenting your code with comments, among other things, can help you avoid this.\n",
    "\n",
    "\n",
    "Good luck!\n",
    "\n",
    "---"
   ]
  },
  {
   "cell_type": "markdown",
   "id": "15ef1649-4e1e-42c9-b424-296fb5428894",
   "metadata": {},
   "source": [
    "## Part 1: Filtering NCBI genome datasets\n",
    "\n",
    "**/7 marks**"
   ]
  },
  {
   "cell_type": "markdown",
   "id": "f4ee0145-1e82-4700-9417-e0325e527e65",
   "metadata": {},
   "source": [
    "The NCBI FTP site (https://ftp.ncbi.nlm.nih.gov/) hosts download links for all of their databases, in a hierarchical organization. \n",
    "\n",
    "Follow the link for `genome/`, then `genbank/`. Download the `assembly_summary_genbank.txt` file (right click --> 'save as') into your working directory. \\\n",
    "Do the same for `genome/refseq/` to download the `assembly_summary_refseq.txt` file.  \n",
    "\n"
   ]
  },
  {
   "cell_type": "markdown",
   "id": "0df6ff45-58c3-4dec-8078-27a7adefeab6",
   "metadata": {},
   "source": [
    "### Task 1:\n",
    "\n",
    "**A) Import both files as separate dataframes. (1 mark)** \\\n",
    "Hint: the `skiprows=` parameter can be used to ignore the header (https://pandas.pydata.org/docs/reference/api/pandas.read_table.html). \\\n",
    "You may get a warning about mixed data types, in which case you can follow the recommendation for specifying `low_memory=False`. "
   ]
  },
  {
   "cell_type": "code",
   "execution_count": 2,
   "id": "f97fbf15-2eb4-4b41-926d-87c0612a4e6b",
   "metadata": {},
   "outputs": [
    {
     "name": "stdout",
     "output_type": "stream",
     "text": [
      "Requirement already satisfied: pandas in c:\\users\\zhang\\appdata\\local\\programs\\python\\python311\\lib\\site-packages (2.2.3)\n",
      "Requirement already satisfied: numpy>=1.23.2 in c:\\users\\zhang\\appdata\\local\\programs\\python\\python311\\lib\\site-packages (from pandas) (2.2.3)\n",
      "Requirement already satisfied: python-dateutil>=2.8.2 in c:\\users\\zhang\\appdata\\roaming\\python\\python311\\site-packages (from pandas) (2.9.0.post0)\n",
      "Requirement already satisfied: pytz>=2020.1 in c:\\users\\zhang\\appdata\\local\\programs\\python\\python311\\lib\\site-packages (from pandas) (2025.1)\n",
      "Requirement already satisfied: tzdata>=2022.7 in c:\\users\\zhang\\appdata\\local\\programs\\python\\python311\\lib\\site-packages (from pandas) (2025.1)\n",
      "Requirement already satisfied: six>=1.5 in c:\\users\\zhang\\appdata\\roaming\\python\\python311\\site-packages (from python-dateutil>=2.8.2->pandas) (1.17.0)\n"
     ]
    },
    {
     "name": "stderr",
     "output_type": "stream",
     "text": [
      "\n",
      "[notice] A new release of pip is available: 24.0 -> 25.0.1\n",
      "[notice] To update, run: python.exe -m pip install --upgrade pip\n"
     ]
    },
    {
     "name": "stdout",
     "output_type": "stream",
     "text": [
      "  #assembly_accession  bioproject     biosample      wgs_master  \\\n",
      "0     GCA_000001215.4  PRJNA13812  SAMN02803731              na   \n",
      "1    GCA_000001405.29  PRJNA31257            na              na   \n",
      "2     GCA_000001515.5  PRJNA13184  SAMN02981217  AACZ00000000.4   \n",
      "3     GCA_000001545.3  PRJNA20869  SAMN02981238  ABGA00000000.1   \n",
      "4     GCA_000001635.9  PRJNA20689            na              na   \n",
      "\n",
      "    refseq_category  taxid  species_taxid            organism_name  \\\n",
      "0  reference genome   7227           7227  Drosophila melanogaster   \n",
      "1  reference genome   9606           9606             Homo sapiens   \n",
      "2                na   9598           9598          Pan troglodytes   \n",
      "3                na   9601           9601             Pongo abelii   \n",
      "4  reference genome  10090          10090             Mus musculus   \n",
      "\n",
      "  infraspecific_name                               isolate  ...  \\\n",
      "0                 na                                    na  ...   \n",
      "1                 na                                    na  ...   \n",
      "2                 na  Yerkes chimp pedigree #C0471 (Clint)  ...   \n",
      "3                 na                               ISIS 71  ...   \n",
      "4    strain=C57BL/6J                                    na  ...   \n",
      "\n",
      "  replicon_count scaffold_count contig_count          annotation_provider  \\\n",
      "0              7           1869         1869                      FlyBase   \n",
      "1             24            473        35614  Genome Reference Consortium   \n",
      "2             25          45510        74995                           na   \n",
      "3             24          79309       408319                           na   \n",
      "4             21            101        21254  Genome Reference Consortium   \n",
      "\n",
      "                                     annotation_name annotation_date  \\\n",
      "0                               FlyBase Release 6.54      2023-12-13   \n",
      "1  Annotation submitted by Genome Reference Conso...      2017-11-21   \n",
      "2                                                 na             NaN   \n",
      "3                                                 na             NaN   \n",
      "4  Annotation submitted by Genome Reference Conso...      2003-09-05   \n",
      "\n",
      "  total_gene_count protein_coding_gene_count non_coding_gene_count  \\\n",
      "0            17872                     13962                  3543   \n",
      "1               37                        13                    24   \n",
      "2                0                         0                     0   \n",
      "3                0                         0                     0   \n",
      "4               13                        13                     0   \n",
      "\n",
      "                                           pubmed_id  \n",
      "0  12537568;12537572;10731132;12537573;12537574;2...  \n",
      "1  10508508;10830953;7219534;11780052;15057823;11...  \n",
      "2                                  16136131;16136134  \n",
      "3                                           21270892  \n",
      "4                         12954771;19468303;21750661  \n",
      "\n",
      "[5 rows x 38 columns]\n",
      "  #assembly_accession  bioproject     biosample wgs_master   refseq_category  \\\n",
      "0     GCF_000001215.4    PRJNA164  SAMN02803731         na  reference genome   \n",
      "1    GCF_000001405.40    PRJNA168            na         na  reference genome   \n",
      "2    GCF_000001635.27    PRJNA169            na         na  reference genome   \n",
      "3     GCF_000001735.4    PRJNA116  SAMN03081427         na  reference genome   \n",
      "4     GCF_000002035.6  PRJNA13922  SAMN06930106         na  reference genome   \n",
      "\n",
      "   taxid  species_taxid            organism_name infraspecific_name isolate  \\\n",
      "0   7227           7227  Drosophila melanogaster                 na      na   \n",
      "1   9606           9606             Homo sapiens                 na      na   \n",
      "2  10090          10090             Mus musculus    strain=C57BL/6J      na   \n",
      "3   3702           3702     Arabidopsis thaliana   ecotype=Columbia      na   \n",
      "4   7955           7955              Danio rerio   strain=Tuebingen      na   \n",
      "\n",
      "   ... replicon_count scaffold_count contig_count annotation_provider  \\\n",
      "0  ...              7           1869         1869             FlyBase   \n",
      "1  ...             24            470        35611         NCBI RefSeq   \n",
      "2  ...             21            101        21254         NCBI RefSeq   \n",
      "3  ...              5              5            5    TAIR and Araport   \n",
      "4  ...             25           1917        31634         NCBI RefSeq   \n",
      "\n",
      "                            annotation_name annotation_date total_gene_count  \\\n",
      "0                      FlyBase Release 6.54      2023-12-26            17872   \n",
      "1               GCF_000001405.40-RS_2024_08      2024-08-23            59715   \n",
      "2               GCF_000001635.27-RS_2024_02      2024-02-01            50763   \n",
      "3  Annotation submitted by TAIR and Araport      2022-10-20            38312   \n",
      "4                GCF_000002035.6-RS_2024_08      2024-08-15            46466   \n",
      "\n",
      "  protein_coding_gene_count non_coding_gene_count  \\\n",
      "0                     13962                  3543   \n",
      "1                     20078                 22163   \n",
      "2                     22198                 17705   \n",
      "3                     27562                  5884   \n",
      "4                     27158                 18839   \n",
      "\n",
      "                                           pubmed_id  \n",
      "0  12537568;12537573;10731132;12537574;17569867;1...  \n",
      "1  10508508;11780052;7219534;10830953;15496913;12...  \n",
      "2                         12954771;19468303;21750661  \n",
      "3  29519893;10617198;11130713;10574454;11130714;1...  \n",
      "4                                  23594743;11691861  \n",
      "\n",
      "[5 rows x 38 columns]\n"
     ]
    }
   ],
   "source": [
    "### YOUR CODE HERE ###\n",
    "!pip install pandas\n",
    "\n",
    "import pandas as pd\n",
    "\n",
    "# import both files\n",
    "genbank_df = pd.read_table('assembly_summary_genbank.txt', skiprows=1, low_memory=False)\n",
    "refseq_df = pd.read_table('assembly_summary_refseq.txt', skiprows=1, low_memory=False)\n",
    "\n",
    "print(genbank_df.head())\n",
    "print(refseq_df.head())"
   ]
  },
  {
   "cell_type": "markdown",
   "id": "c593e171-4f41-4336-ba4c-b7475dbe9e1c",
   "metadata": {},
   "source": [
    "\\\n",
    "Take a look at both dataframes. They should both show a list of accession numbers, each representing an assembled genome in the database. The column headers are identical, and contain info about the source of the assembly, the species (taxid and species_taxid are both unique to the organism, listed under organism_name), and various stats such as the genome size and gene counts. \n",
    "\n",
    "There are too many columns to display, so for the sake of convenience, let's filter out some of the irrelevant ones. \n",
    "\n",
    "**B) Filter the dataframes to only contain the following columns: (1 mark)**\n",
    "\n",
    "- `'#assembly_accession'`\n",
    "- `'refseq_category'`\n",
    "- `'organism_name'`\n",
    "- `'assembly_level'`\n",
    "- `'genome_rep'`\n",
    "- `'group'`\n",
    "- `'genome_size'`\n",
    "- `'genome_size_ungapped'`\n",
    "- `'gc_percent'`"
   ]
  },
  {
   "cell_type": "code",
   "execution_count": 3,
   "id": "e7d904e1-196f-464d-8719-e4cecc57f2d0",
   "metadata": {},
   "outputs": [
    {
     "name": "stdout",
     "output_type": "stream",
     "text": [
      "  #assembly_accession   refseq_category            organism_name  \\\n",
      "0     GCA_000001215.4  reference genome  Drosophila melanogaster   \n",
      "1    GCA_000001405.29  reference genome             Homo sapiens   \n",
      "2     GCA_000001515.5                na          Pan troglodytes   \n",
      "3     GCA_000001545.3                na             Pongo abelii   \n",
      "4     GCA_000001635.9  reference genome             Mus musculus   \n",
      "\n",
      "  assembly_level genome_rep                 group  genome_size  \\\n",
      "0     Chromosome       Full          invertebrate    143706478   \n",
      "1     Chromosome       Full  vertebrate_mammalian   3099734149   \n",
      "2     Chromosome       Full  vertebrate_mammalian   3231154112   \n",
      "3     Chromosome       Full  vertebrate_mammalian   3437863358   \n",
      "4     Chromosome       Full  vertebrate_mammalian   2728206152   \n",
      "\n",
      "   genome_size_ungapped  gc_percent  \n",
      "0             142553500        42.0  \n",
      "1            2948611470        41.0  \n",
      "2            3132603083        41.0  \n",
      "3            3091404838        40.5  \n",
      "4            2654605538        42.0  \n",
      "  #assembly_accession   refseq_category            organism_name  \\\n",
      "0     GCF_000001215.4  reference genome  Drosophila melanogaster   \n",
      "1    GCF_000001405.40  reference genome             Homo sapiens   \n",
      "2    GCF_000001635.27  reference genome             Mus musculus   \n",
      "3     GCF_000001735.4  reference genome     Arabidopsis thaliana   \n",
      "4     GCF_000002035.6  reference genome              Danio rerio   \n",
      "\n",
      "  assembly_level genome_rep                 group  genome_size  \\\n",
      "0     Chromosome       Full          invertebrate    143706478   \n",
      "1     Chromosome       Full  vertebrate_mammalian   3099441038   \n",
      "2     Chromosome       Full  vertebrate_mammalian   2728206152   \n",
      "3     Chromosome       Full                 plant    119146348   \n",
      "4     Chromosome       Full      vertebrate_other   1373454788   \n",
      "\n",
      "   genome_size_ungapped  gc_percent  \n",
      "0             142553500        42.0  \n",
      "1            2948318359        41.0  \n",
      "2            2654605538        42.0  \n",
      "3             118960704        36.0  \n",
      "4            1368765506        36.5  \n"
     ]
    }
   ],
   "source": [
    "### YOUR CODE HERE ###\n",
    "# columns to keep\n",
    "keep = [\n",
    "    \"#assembly_accession\",\n",
    "    \"refseq_category\",\n",
    "    \"organism_name\",\n",
    "    \"assembly_level\",\n",
    "    \"genome_rep\",\n",
    "    \"group\",\n",
    "    \"genome_size\",\n",
    "    \"genome_size_ungapped\",\n",
    "    \"gc_percent\"\n",
    "]\n",
    "# select certain columns\n",
    "genbank_df = genbank_df[keep]\n",
    "refseq_df = refseq_df[keep]\n",
    "print(genbank_df.head())\n",
    "print(refseq_df.head())"
   ]
  },
  {
   "cell_type": "markdown",
   "id": "3b39fa9e-34a6-4e68-a3b9-dcbfb32df69a",
   "metadata": {},
   "source": [
    "---"
   ]
  },
  {
   "cell_type": "markdown",
   "id": "0e645ad4-8e0e-4ec2-9330-ebca30f14390",
   "metadata": {},
   "source": [
    "\n",
    "### Task 2: \n",
    "\n",
    "Recall that refseq is a curated, non-redundant version of genbank - one sequence per gene per organism. However, for the genome assembly dataset, the level of redundancy is debatable... for example, using `['organism_name'].value_counts()` on the refseq dataframe shows 37,570 genomes for E. coli. This could be due to different strains, assembly methods, etc. \n",
    "\n",
    "Regardless, I'm interested in filtering a list of *high quality genomes* with *one unique entry* per species , with the following criteria:\n",
    "\n",
    "1. Only keep entries listed as `'Full'` under `['genome_rep']` (excludes partial genomes). \n",
    "2. Only keep entries listed as `'bacteria'`, `'archaea'`, `'fungi'`, `'invertebrate'`, `'plant'`, `'vertebrate_other'`, `'vertebrate_mammalian'`, and `'protozoa'` under `['group']` (excludes viral, metagenome, and other genomes). \n",
    "3. Keep only one value per species (`['organism_name']`), prioritizing entries listed as a `reference genome` under `['refseq_category']`."
   ]
  },
  {
   "cell_type": "markdown",
   "id": "4a26d349-b7d4-4df5-b757-7c7555023dd0",
   "metadata": {},
   "source": [
    "\n",
    "**A)** **Apply the above filtering criteria to both the genbank and refseq datasets. (2 marks)**\n",
    "\n",
    "Hint: the `df.drop_duplicates()` function is useful here: https://pandas.pydata.org/docs/reference/api/pandas.DataFrame.drop_duplicates.html \\\n",
    "Note the `subset=` parameter. "
   ]
  },
  {
   "cell_type": "code",
   "execution_count": 4,
   "id": "7f003852-c14c-4c33-8afb-d5bad07cddf4",
   "metadata": {
    "scrolled": true
   },
   "outputs": [
    {
     "name": "stdout",
     "output_type": "stream",
     "text": [
      "        #assembly_accession   refseq_category            organism_name  \\\n",
      "0           GCA_000001215.4  reference genome  Drosophila melanogaster   \n",
      "314799      GCA_006539865.1  reference genome        Zoogloea ramigera   \n",
      "981045      GCA_020012125.1  reference genome  Hymenobacter psoromatis   \n",
      "1118541     GCA_022758105.1  reference genome      Pangasianodon gigas   \n",
      "1118543     GCA_022758145.1  reference genome     Pontibacter vulgaris   \n",
      "\n",
      "        assembly_level genome_rep             group  genome_size  \\\n",
      "0           Chromosome       Full      invertebrate    143706478   \n",
      "314799          Contig       Full          bacteria      4605859   \n",
      "981045          Contig       Full          bacteria      5146772   \n",
      "1118541     Chromosome       Full  vertebrate_other    827231152   \n",
      "1118543         Contig       Full          bacteria      4191305   \n",
      "\n",
      "         genome_size_ungapped  gc_percent  \n",
      "0                   142553500        42.0  \n",
      "314799                4605859        67.0  \n",
      "981045                5146772        60.5  \n",
      "1118541             822171052        39.0  \n",
      "1118543               4191305        44.5  \n",
      "      #assembly_accession   refseq_category             organism_name  \\\n",
      "0         GCF_000001215.4  reference genome   Drosophila melanogaster   \n",
      "23016     GCF_000708205.1  reference genome  Mixia osmundae IAM 14324   \n",
      "82890     GCF_002286965.1  reference genome    Halovibrio salipaludis   \n",
      "82888     GCF_002286935.1  reference genome   Bifidobacterium criceti   \n",
      "82887     GCF_002286915.1  reference genome  Bifidobacterium italicum   \n",
      "\n",
      "      assembly_level genome_rep         group  genome_size  \\\n",
      "0         Chromosome       Full  invertebrate    143706478   \n",
      "23016       Scaffold       Full         fungi     13634488   \n",
      "82890         Contig       Full      bacteria      3495096   \n",
      "82888         Contig       Full      bacteria      2155882   \n",
      "82887         Contig       Full      bacteria      2276351   \n",
      "\n",
      "       genome_size_ungapped  gc_percent  \n",
      "0                 142553500        42.0  \n",
      "23016              13556769        55.5  \n",
      "82890               3495096        62.0  \n",
      "82888               2155882        62.5  \n",
      "82887               2276351        65.5  \n",
      "        #assembly_accession refseq_category     organism_name assembly_level  \\\n",
      "939556      GCA_019179095.1              na  Escherichia coli         Contig   \n",
      "939557      GCA_019179115.1              na  Escherichia coli         Contig   \n",
      "939558      GCA_019179135.1              na  Escherichia coli         Contig   \n",
      "939559      GCA_019179155.1              na  Escherichia coli         Contig   \n",
      "2901942     GCA_965199365.1              na   Terriglobus sp.         Contig   \n",
      "\n",
      "        genome_rep     group  genome_size  genome_size_ungapped  gc_percent  \n",
      "939556        Full  bacteria      5281058               5281058        50.5  \n",
      "939557        Full  bacteria      5129408               5129408        50.5  \n",
      "939558        Full  bacteria      5057904               5057904        50.5  \n",
      "939559        Full  bacteria      5049952               5049952        50.5  \n",
      "2901942       Full  bacteria      4697076               4697076        60.5  \n",
      "       #assembly_accession refseq_category                organism_name  \\\n",
      "157033     GCF_011753085.1              na      Burkholderia sp. Tr-862   \n",
      "157032     GCF_011753075.1              na      Burkholderia sp. Ap-962   \n",
      "157031     GCF_011753055.1              na     Burkholderia sp. Ax-1719   \n",
      "157030     GCF_011753045.1              na      Burkholderia sp. Ap-955   \n",
      "434761     GCF_965197755.1              na  Candidatus Palauibacter sp.   \n",
      "\n",
      "       assembly_level genome_rep     group  genome_size  genome_size_ungapped  \\\n",
      "157033         Contig       Full  bacteria      7437093               7437093   \n",
      "157032         Contig       Full  bacteria      7910100               7910100   \n",
      "157031         Contig       Full  bacteria      8123560               8123560   \n",
      "157030         Contig       Full  bacteria      8132612               8132612   \n",
      "434761         Contig       Full  bacteria      5062231               5062231   \n",
      "\n",
      "        gc_percent  \n",
      "157033        66.5  \n",
      "157032        68.5  \n",
      "157031        63.0  \n",
      "157030        66.5  \n",
      "434761        68.5  \n",
      "        #assembly_accession   refseq_category            organism_name  \\\n",
      "0           GCA_000001215.4  reference genome  Drosophila melanogaster   \n",
      "314799      GCA_006539865.1  reference genome        Zoogloea ramigera   \n",
      "981045      GCA_020012125.1  reference genome  Hymenobacter psoromatis   \n",
      "1118541     GCA_022758105.1  reference genome      Pangasianodon gigas   \n",
      "1118543     GCA_022758145.1  reference genome     Pontibacter vulgaris   \n",
      "\n",
      "        assembly_level genome_rep             group  genome_size  \\\n",
      "0           Chromosome       Full      invertebrate    143706478   \n",
      "314799          Contig       Full          bacteria      4605859   \n",
      "981045          Contig       Full          bacteria      5146772   \n",
      "1118541     Chromosome       Full  vertebrate_other    827231152   \n",
      "1118543         Contig       Full          bacteria      4191305   \n",
      "\n",
      "         genome_size_ungapped  gc_percent  \n",
      "0                   142553500        42.0  \n",
      "314799                4605859        67.0  \n",
      "981045                5146772        60.5  \n",
      "1118541             822171052        39.0  \n",
      "1118543               4191305        44.5  \n",
      "      #assembly_accession   refseq_category             organism_name  \\\n",
      "0         GCF_000001215.4  reference genome   Drosophila melanogaster   \n",
      "23016     GCF_000708205.1  reference genome  Mixia osmundae IAM 14324   \n",
      "82890     GCF_002286965.1  reference genome    Halovibrio salipaludis   \n",
      "82888     GCF_002286935.1  reference genome   Bifidobacterium criceti   \n",
      "82887     GCF_002286915.1  reference genome  Bifidobacterium italicum   \n",
      "\n",
      "      assembly_level genome_rep         group  genome_size  \\\n",
      "0         Chromosome       Full  invertebrate    143706478   \n",
      "23016       Scaffold       Full         fungi     13634488   \n",
      "82890         Contig       Full      bacteria      3495096   \n",
      "82888         Contig       Full      bacteria      2155882   \n",
      "82887         Contig       Full      bacteria      2276351   \n",
      "\n",
      "       genome_size_ungapped  gc_percent  \n",
      "0                 142553500        42.0  \n",
      "23016              13556769        55.5  \n",
      "82890               3495096        62.0  \n",
      "82888               2155882        62.5  \n",
      "82887               2276351        65.5  \n",
      "SIZE:  142887\n",
      "SIZE:  88082\n"
     ]
    }
   ],
   "source": [
    "# keep entries listed as full\n",
    "filtered_genbank_df = genbank_df[genbank_df['genome_rep'] == 'Full']\n",
    "filtered_refseq_df = refseq_df[refseq_df['genome_rep'] == 'Full']\n",
    "# keep entries listed as _ under group\n",
    "keep_groups = [\n",
    "    'bacteria', 'archaea', 'fungi', 'invertebrate', \n",
    "    'plant', 'vertebrate_other', 'vertebrate_mammalian', 'protozoa'\n",
    "]\n",
    "filtered_genbank_df = filtered_genbank_df[filtered_genbank_df['group'].isin(keep_groups)]\n",
    "filtered_refseq_df = filtered_refseq_df[filtered_refseq_df['group'].isin(keep_groups)]\n",
    "# sort by refseq, so that reference genomes come first\n",
    "filtered_genbank_df = filtered_genbank_df.sort_values(by='refseq_category', ascending=False)\n",
    "filtered_refseq_df = filtered_refseq_df.sort_values(by='refseq_category', ascending=False)\n",
    "# sanity check sort\n",
    "print(filtered_genbank_df.head())\n",
    "print(filtered_refseq_df.head())\n",
    "print(filtered_genbank_df.tail())\n",
    "print(filtered_refseq_df.tail())\n",
    "# drop dups, keep first\n",
    "filtered_genbank_df = filtered_genbank_df.drop_duplicates(subset=['organism_name'], keep=\"first\")\n",
    "filtered_refseq_df = filtered_refseq_df.drop_duplicates(subset=['organism_name'], keep=\"first\")\n",
    "print(filtered_genbank_df.head())\n",
    "print(filtered_refseq_df.head())\n",
    "print(\"SIZE: \", len(filtered_genbank_df))\n",
    "print(\"SIZE: \", len(filtered_refseq_df))"
   ]
  },
  {
   "cell_type": "markdown",
   "id": "fcba3e2e-576b-4ed1-9f37-2848a4a2b8e6",
   "metadata": {},
   "source": [
    "**B) How many genomes are in the filtered datasets? (1 mark)**"
   ]
  },
  {
   "cell_type": "markdown",
   "id": "b2a9c666-ec59-47f3-8895-10ed1cbebe2d",
   "metadata": {},
   "source": [
    "RefSeq: 142887\n",
    "\n",
    "GenBank: 88082"
   ]
  },
  {
   "cell_type": "markdown",
   "id": "c43a36cf-4611-4d6c-b634-28a1c6185184",
   "metadata": {},
   "source": [
    "\n",
    "\\\n",
    "Next, I want to combine the datasets by adding any genbank genomes that do *not* have an equivalent refseq entry to the refseq dataframe. The accession numbers are similar between refseq and genbank - the only difference being that refseq uses GCF and genbank uses GCA. The 9-digit numerical values in both accessions (excluding the ones after the period, which refer to version number) are shared between entries. \n",
    "\n",
    "For example, GCF_000001405.40 and GCA_000001405.29 both map to the same reference genome (*Homo sapiens* assembly GRCh38.p14: https://www.ncbi.nlm.nih.gov/datasets/genome/GCF_000001405.40/). \n",
    "\n",
    "\n",
    "\\\n",
    "**C) Create a single dataframe from the refseq and genbank data that contains one unique entry per genome (i.e., remove duplicate GCF/GCA entries). Prioritize refseq entries over genbank entries. Display the dataframe. (2 marks)** \n",
    "\n",
    "Hint: The `pd.concat([df1,df2])` function concatenates dataframes by rows: https://pandas.pydata.org/docs/reference/api/pandas.concat.html. "
   ]
  },
  {
   "cell_type": "code",
   "execution_count": 5,
   "id": "d4415e99-4f58-4082-b5ce-46d71b56f8ba",
   "metadata": {},
   "outputs": [
    {
     "data": {
      "text/html": [
       "<div>\n",
       "<style scoped>\n",
       "    .dataframe tbody tr th:only-of-type {\n",
       "        vertical-align: middle;\n",
       "    }\n",
       "\n",
       "    .dataframe tbody tr th {\n",
       "        vertical-align: top;\n",
       "    }\n",
       "\n",
       "    .dataframe thead th {\n",
       "        text-align: right;\n",
       "    }\n",
       "</style>\n",
       "<table border=\"1\" class=\"dataframe\">\n",
       "  <thead>\n",
       "    <tr style=\"text-align: right;\">\n",
       "      <th></th>\n",
       "      <th>#assembly_accession</th>\n",
       "      <th>refseq_category</th>\n",
       "      <th>organism_name</th>\n",
       "      <th>assembly_level</th>\n",
       "      <th>genome_rep</th>\n",
       "      <th>group</th>\n",
       "      <th>genome_size</th>\n",
       "      <th>genome_size_ungapped</th>\n",
       "      <th>gc_percent</th>\n",
       "    </tr>\n",
       "  </thead>\n",
       "  <tbody>\n",
       "    <tr>\n",
       "      <th>0</th>\n",
       "      <td>GCF_000001215.4</td>\n",
       "      <td>reference genome</td>\n",
       "      <td>Drosophila melanogaster</td>\n",
       "      <td>Chromosome</td>\n",
       "      <td>Full</td>\n",
       "      <td>invertebrate</td>\n",
       "      <td>143706478</td>\n",
       "      <td>142553500</td>\n",
       "      <td>42.0</td>\n",
       "    </tr>\n",
       "    <tr>\n",
       "      <th>23016</th>\n",
       "      <td>GCF_000708205.1</td>\n",
       "      <td>reference genome</td>\n",
       "      <td>Mixia osmundae IAM 14324</td>\n",
       "      <td>Scaffold</td>\n",
       "      <td>Full</td>\n",
       "      <td>fungi</td>\n",
       "      <td>13634488</td>\n",
       "      <td>13556769</td>\n",
       "      <td>55.5</td>\n",
       "    </tr>\n",
       "    <tr>\n",
       "      <th>82890</th>\n",
       "      <td>GCF_002286965.1</td>\n",
       "      <td>reference genome</td>\n",
       "      <td>Halovibrio salipaludis</td>\n",
       "      <td>Contig</td>\n",
       "      <td>Full</td>\n",
       "      <td>bacteria</td>\n",
       "      <td>3495096</td>\n",
       "      <td>3495096</td>\n",
       "      <td>62.0</td>\n",
       "    </tr>\n",
       "    <tr>\n",
       "      <th>82888</th>\n",
       "      <td>GCF_002286935.1</td>\n",
       "      <td>reference genome</td>\n",
       "      <td>Bifidobacterium criceti</td>\n",
       "      <td>Contig</td>\n",
       "      <td>Full</td>\n",
       "      <td>bacteria</td>\n",
       "      <td>2155882</td>\n",
       "      <td>2155882</td>\n",
       "      <td>62.5</td>\n",
       "    </tr>\n",
       "    <tr>\n",
       "      <th>82887</th>\n",
       "      <td>GCF_002286915.1</td>\n",
       "      <td>reference genome</td>\n",
       "      <td>Bifidobacterium italicum</td>\n",
       "      <td>Contig</td>\n",
       "      <td>Full</td>\n",
       "      <td>bacteria</td>\n",
       "      <td>2276351</td>\n",
       "      <td>2276351</td>\n",
       "      <td>65.5</td>\n",
       "    </tr>\n",
       "    <tr>\n",
       "      <th>...</th>\n",
       "      <td>...</td>\n",
       "      <td>...</td>\n",
       "      <td>...</td>\n",
       "      <td>...</td>\n",
       "      <td>...</td>\n",
       "      <td>...</td>\n",
       "      <td>...</td>\n",
       "      <td>...</td>\n",
       "      <td>...</td>\n",
       "    </tr>\n",
       "    <tr>\n",
       "      <th>939280</th>\n",
       "      <td>GCA_019173565.1</td>\n",
       "      <td>na</td>\n",
       "      <td>Salmonella enterica subsp. salamae serovar II ...</td>\n",
       "      <td>Contig</td>\n",
       "      <td>Full</td>\n",
       "      <td>bacteria</td>\n",
       "      <td>5388803</td>\n",
       "      <td>5388803</td>\n",
       "      <td>51.5</td>\n",
       "    </tr>\n",
       "    <tr>\n",
       "      <th>938762</th>\n",
       "      <td>GCA_019163155.1</td>\n",
       "      <td>na</td>\n",
       "      <td>Pelodictyon phaeoclathratiforme</td>\n",
       "      <td>Scaffold</td>\n",
       "      <td>Full</td>\n",
       "      <td>bacteria</td>\n",
       "      <td>2666038</td>\n",
       "      <td>2665156</td>\n",
       "      <td>48.0</td>\n",
       "    </tr>\n",
       "    <tr>\n",
       "      <th>938908</th>\n",
       "      <td>GCA_019166125.1</td>\n",
       "      <td>na</td>\n",
       "      <td>Alcaligenaceae bacterium CGII-47</td>\n",
       "      <td>Contig</td>\n",
       "      <td>Full</td>\n",
       "      <td>bacteria</td>\n",
       "      <td>3447753</td>\n",
       "      <td>3447753</td>\n",
       "      <td>56.5</td>\n",
       "    </tr>\n",
       "    <tr>\n",
       "      <th>939421</th>\n",
       "      <td>GCA_019176365.1</td>\n",
       "      <td>na</td>\n",
       "      <td>Aspergillus sp. GbtcF1</td>\n",
       "      <td>Contig</td>\n",
       "      <td>Full</td>\n",
       "      <td>fungi</td>\n",
       "      <td>28831586</td>\n",
       "      <td>28831586</td>\n",
       "      <td>49.5</td>\n",
       "    </tr>\n",
       "    <tr>\n",
       "      <th>939422</th>\n",
       "      <td>GCA_019176375.1</td>\n",
       "      <td>na</td>\n",
       "      <td>Aspergillus sp. GbtcF2</td>\n",
       "      <td>Contig</td>\n",
       "      <td>Full</td>\n",
       "      <td>fungi</td>\n",
       "      <td>37875941</td>\n",
       "      <td>37875941</td>\n",
       "      <td>47.5</td>\n",
       "    </tr>\n",
       "  </tbody>\n",
       "</table>\n",
       "<p>146696 rows × 9 columns</p>\n",
       "</div>"
      ],
      "text/plain": [
       "       #assembly_accession   refseq_category  \\\n",
       "0          GCF_000001215.4  reference genome   \n",
       "23016      GCF_000708205.1  reference genome   \n",
       "82890      GCF_002286965.1  reference genome   \n",
       "82888      GCF_002286935.1  reference genome   \n",
       "82887      GCF_002286915.1  reference genome   \n",
       "...                    ...               ...   \n",
       "939280     GCA_019173565.1                na   \n",
       "938762     GCA_019163155.1                na   \n",
       "938908     GCA_019166125.1                na   \n",
       "939421     GCA_019176365.1                na   \n",
       "939422     GCA_019176375.1                na   \n",
       "\n",
       "                                            organism_name assembly_level  \\\n",
       "0                                 Drosophila melanogaster     Chromosome   \n",
       "23016                            Mixia osmundae IAM 14324       Scaffold   \n",
       "82890                              Halovibrio salipaludis         Contig   \n",
       "82888                             Bifidobacterium criceti         Contig   \n",
       "82887                            Bifidobacterium italicum         Contig   \n",
       "...                                                   ...            ...   \n",
       "939280  Salmonella enterica subsp. salamae serovar II ...         Contig   \n",
       "938762                    Pelodictyon phaeoclathratiforme       Scaffold   \n",
       "938908                   Alcaligenaceae bacterium CGII-47         Contig   \n",
       "939421                             Aspergillus sp. GbtcF1         Contig   \n",
       "939422                             Aspergillus sp. GbtcF2         Contig   \n",
       "\n",
       "       genome_rep         group  genome_size  genome_size_ungapped  gc_percent  \n",
       "0            Full  invertebrate    143706478             142553500        42.0  \n",
       "23016        Full         fungi     13634488              13556769        55.5  \n",
       "82890        Full      bacteria      3495096               3495096        62.0  \n",
       "82888        Full      bacteria      2155882               2155882        62.5  \n",
       "82887        Full      bacteria      2276351               2276351        65.5  \n",
       "...           ...           ...          ...                   ...         ...  \n",
       "939280       Full      bacteria      5388803               5388803        51.5  \n",
       "938762       Full      bacteria      2666038               2665156        48.0  \n",
       "938908       Full      bacteria      3447753               3447753        56.5  \n",
       "939421       Full         fungi     28831586              28831586        49.5  \n",
       "939422       Full         fungi     37875941              37875941        47.5  \n",
       "\n",
       "[146696 rows x 9 columns]"
      ]
     },
     "execution_count": 5,
     "metadata": {},
     "output_type": "execute_result"
    }
   ],
   "source": [
    "### YOUR CODE HERE ###\n",
    "# create new column to drop based on ids extracted with regex\n",
    "filtered_genbank_df['id'] = filtered_genbank_df['#assembly_accession'].str.extract(r'GCA_(\\d{9})')\n",
    "filtered_refseq_df['id'] = filtered_refseq_df['#assembly_accession'].str.extract(r'GCF_(\\d{9})')\n",
    "\n",
    "# concat refseq with genbank, so refseq comes first\n",
    "combined_df = pd.concat([filtered_refseq_df, filtered_genbank_df])\n",
    "\n",
    "# drop based on id column, keep first\n",
    "final_df = combined_df.drop_duplicates(subset=['id'], keep=\"first\").drop(columns='id')\n",
    "\n",
    "# display result\n",
    "final_df"
   ]
  },
  {
   "cell_type": "markdown",
   "id": "7c218b26-953c-428b-8830-9be7e8390525",
   "metadata": {},
   "source": [
    "---"
   ]
  },
  {
   "cell_type": "markdown",
   "id": "43381145-a77f-40d2-9e61-8d4cc0858d63",
   "metadata": {},
   "source": [
    "## Part 2: Genome statistics \n",
    "\n",
    "**/16 marks**"
   ]
  },
  {
   "cell_type": "markdown",
   "id": "eb73345b-d33d-4db3-b01e-6df9f385d642",
   "metadata": {},
   "source": [
    "Let's investigate some relationships between qualitative and quantitative variables in our filtered dataframe. \\\n",
    "Note: plot formatting is not required unless explicitly stated."
   ]
  },
  {
   "cell_type": "markdown",
   "id": "9759530b-ebca-421d-9684-3b742ca352a7",
   "metadata": {},
   "source": [
    "### Task 3:\n",
    "\n",
    "The filtered genomes should all belong to domains archaea, bacteria, and eukarya. Currently, eukaryotes are not explicitly listed in the `['group']` column. \n"
   ]
  },
  {
   "cell_type": "markdown",
   "id": "1db0b34b-3f3d-4cc0-8abc-4f70efab71b6",
   "metadata": {},
   "source": [
    "**A) Create box plots comparing the % GC content of bacterial, archaeal, and eukaryotic genomes (3 categories total). (3 marks)**"
   ]
  },
  {
   "cell_type": "code",
   "execution_count": 6,
   "id": "7caf624c-039a-4b6c-a600-22a4445f6f6a",
   "metadata": {},
   "outputs": [
    {
     "name": "stdout",
     "output_type": "stream",
     "text": [
      "Requirement already satisfied: matplotlib in c:\\users\\zhang\\appdata\\local\\programs\\python\\python311\\lib\\site-packages (3.10.1)\n",
      "Requirement already satisfied: contourpy>=1.0.1 in c:\\users\\zhang\\appdata\\local\\programs\\python\\python311\\lib\\site-packages (from matplotlib) (1.3.1)\n",
      "Requirement already satisfied: cycler>=0.10 in c:\\users\\zhang\\appdata\\local\\programs\\python\\python311\\lib\\site-packages (from matplotlib) (0.12.1)\n",
      "Requirement already satisfied: fonttools>=4.22.0 in c:\\users\\zhang\\appdata\\local\\programs\\python\\python311\\lib\\site-packages (from matplotlib) (4.56.0)\n",
      "Requirement already satisfied: kiwisolver>=1.3.1 in c:\\users\\zhang\\appdata\\local\\programs\\python\\python311\\lib\\site-packages (from matplotlib) (1.4.8)\n",
      "Requirement already satisfied: numpy>=1.23 in c:\\users\\zhang\\appdata\\local\\programs\\python\\python311\\lib\\site-packages (from matplotlib) (2.2.3)\n",
      "Requirement already satisfied: packaging>=20.0 in c:\\users\\zhang\\appdata\\roaming\\python\\python311\\site-packages (from matplotlib) (24.2)\n",
      "Requirement already satisfied: pillow>=8 in c:\\users\\zhang\\appdata\\local\\programs\\python\\python311\\lib\\site-packages (from matplotlib) (11.1.0)\n",
      "Requirement already satisfied: pyparsing>=2.3.1 in c:\\users\\zhang\\appdata\\local\\programs\\python\\python311\\lib\\site-packages (from matplotlib) (3.2.1)\n",
      "Requirement already satisfied: python-dateutil>=2.7 in c:\\users\\zhang\\appdata\\roaming\\python\\python311\\site-packages (from matplotlib) (2.9.0.post0)\n",
      "Requirement already satisfied: six>=1.5 in c:\\users\\zhang\\appdata\\roaming\\python\\python311\\site-packages (from python-dateutil>=2.7->matplotlib) (1.17.0)\n"
     ]
    },
    {
     "name": "stderr",
     "output_type": "stream",
     "text": [
      "\n",
      "[notice] A new release of pip is available: 24.0 -> 25.0.1\n",
      "[notice] To update, run: python.exe -m pip install --upgrade pip\n",
      "C:\\Users\\zhang\\AppData\\Local\\Temp\\ipykernel_13220\\2075417009.py:21: MatplotlibDeprecationWarning: The 'labels' parameter of boxplot() has been renamed 'tick_labels' since Matplotlib 3.9; support for the old name will be dropped in 3.11.\n",
      "  plt.boxplot(data, labels=labels)\n"
     ]
    },
    {
     "data": {
      "image/png": "[encoded data removed]",
      "text/plain": [
       "<Figure size 640x480 with 1 Axes>"
      ]
     },
     "metadata": {},
     "output_type": "display_data"
    }
   ],
   "source": [
    "### YOUR CODE HERE ###\n",
    "!pip install matplotlib\n",
    "import matplotlib.pyplot as plt\n",
    "\n",
    "# data to graph\n",
    "bacteria_gc = final_df[final_df[\"group\"] == \"bacteria\"][\"gc_percent\"]\n",
    "archaea_gc = final_df[final_df[\"group\"] == \"archaea\"][\"gc_percent\"]\n",
    "# everything not bacteria or archaea is eukarya\n",
    "eukaryote_gc = final_df[(final_df[\"group\"] != \"bacteria\") & (final_df[\"group\"] != \"archaea\")][\"gc_percent\"]\n",
    "data = [\n",
    "    bacteria_gc,\n",
    "    archaea_gc,\n",
    "    eukaryote_gc,\n",
    "]\n",
    "\n",
    "# Labels for the x-axis\n",
    "labels = [\"Bacterial\", \"Archaeal\", \"Eukaryotic\"]\n",
    "\n",
    "# Create the box plot\n",
    "plt.figure()\n",
    "plt.boxplot(data, labels=labels)\n",
    "\n",
    "# Label the plot\n",
    "plt.xlabel(\"Genome\")\n",
    "plt.ylabel(\"% GC Content\")\n",
    "plt.title(\"Compare GC Content\")\n",
    "\n",
    "# Show the plot\n",
    "plt.show()"
   ]
  },
  {
   "cell_type": "markdown",
   "id": "93554715-88a2-47c4-821d-d34702be652f",
   "metadata": {},
   "source": [
    "**B) Which group has the highest average GC content? (1 mark)**"
   ]
  },
  {
   "cell_type": "markdown",
   "id": "f5f738cf-a4f7-451b-b651-f17661e5f8d4",
   "metadata": {},
   "source": [
    "Bacterial"
   ]
  },
  {
   "cell_type": "markdown",
   "id": "529a12aa-80ae-4c26-97a6-95d0a3a0ac90",
   "metadata": {},
   "source": [
    "**C) Perform a one-way ANOVA to test for significant differences in GC content across domains. (1 mark)** "
   ]
  },
  {
   "cell_type": "code",
   "execution_count": 7,
   "id": "fbd7e637-78f5-4f29-801a-557ae7a296fb",
   "metadata": {},
   "outputs": [
    {
     "name": "stderr",
     "output_type": "stream",
     "text": [
      "\n",
      "[notice] A new release of pip is available: 24.0 -> 25.0.1\n",
      "[notice] To update, run: python.exe -m pip install --upgrade pip\n"
     ]
    },
    {
     "name": "stdout",
     "output_type": "stream",
     "text": [
      "Requirement already satisfied: scipy in c:\\users\\zhang\\appdata\\local\\programs\\python\\python311\\lib\\site-packages (1.15.2)\n",
      "Requirement already satisfied: numpy<2.5,>=1.23.5 in c:\\users\\zhang\\appdata\\local\\programs\\python\\python311\\lib\\site-packages (from scipy) (2.2.3)\n",
      "ANOVA: 5443.0807, p-value = 0.0000000000e+00\n"
     ]
    }
   ],
   "source": [
    "### YOUR CODE HERE ###\n",
    "!pip install scipy\n",
    "from scipy.stats import f_oneway\n",
    "\n",
    "# Perform one-way ANOVA\n",
    "f_stat, p_value = f_oneway(bacteria_gc, archaea_gc, eukaryote_gc)\n",
    "\n",
    "\n",
    "print(f\"ANOVA: {f_stat:.4f}, p-value = {p_value:.10e}\")"
   ]
  },
  {
   "cell_type": "markdown",
   "id": "2921562c-d340-450d-b3ba-7ed5f0d06730",
   "metadata": {},
   "source": [
    "**E) Are the differences significant? (1 mark)**"
   ]
  },
  {
   "cell_type": "markdown",
   "id": "a5e33afe-119b-4921-b8b3-a4984b3087a7",
   "metadata": {},
   "source": [
    "Since p-value is less than 0.05 there is a significant difference."
   ]
  },
  {
   "cell_type": "markdown",
   "id": "b1d17843-a147-4b7b-8aa8-e77d9fa190ce",
   "metadata": {},
   "source": [
    "---"
   ]
  },
  {
   "cell_type": "markdown",
   "id": "09372075-9c3b-4cd9-a1c3-e4f3c86e42fb",
   "metadata": {},
   "source": [
    "### Task 4\n",
    "\n",
    "**A) Create a scatter plot with the** `['genome_size']` **and** `['genome_size_ungapped']` **columns as the x and y values, respectively. Include a line of best fit. (3 marks)**"
   ]
  },
  {
   "cell_type": "code",
   "execution_count": 8,
   "id": "10d0ea99-3b73-46ba-84fe-7b47830beaaa",
   "metadata": {},
   "outputs": [
    {
     "name": "stdout",
     "output_type": "stream",
     "text": [
      "Requirement already satisfied: numpy in c:\\users\\zhang\\appdata\\local\\programs\\python\\python311\\lib\\site-packages (2.2.3)\n"
     ]
    },
    {
     "name": "stderr",
     "output_type": "stream",
     "text": [
      "\n",
      "[notice] A new release of pip is available: 24.0 -> 25.0.1\n",
      "[notice] To update, run: python.exe -m pip install --upgrade pip\n"
     ]
    },
    {
     "data": {
      "image/png": "[encoded data removed]",
      "text/plain": [
       "<Figure size 640x480 with 1 Axes>"
      ]
     },
     "metadata": {},
     "output_type": "display_data"
    },
    {
     "name": "stdout",
     "output_type": "stream",
     "text": [
      "r: 0.9966360379190347\n"
     ]
    }
   ],
   "source": [
    "### YOUR CODE HERE ###\n",
    "!pip install numpy\n",
    "\n",
    "import matplotlib.pyplot as plt\n",
    "import numpy as np\n",
    "\n",
    "# data\n",
    "x = final_df[\"genome_size\"]\n",
    "y = final_df[\"genome_size_ungapped\"]\n",
    "\n",
    "# graph\n",
    "plt.figure()\n",
    "plt.scatter(x, y)\n",
    "# plot line of best fit \n",
    "# https://stackoverflow.com/questions/22239691/code-for-best-fit-straight-line-of-a-scatter-plot\n",
    "plt.plot(np.unique(x), np.poly1d(np.polyfit(x, y, 1))(np.unique(x)), color=\"r\")\n",
    "plt.xlabel(\"genome size\")\n",
    "plt.ylabel(\"genome size ungapped\")\n",
    "plt.title(\"Genome size comparison\")\n",
    "\n",
    "# Show the plot\n",
    "plt.show()\n",
    "\n",
    "# calculate the correlation coefficient r\n",
    "# https://realpython.com/numpy-scipy-pandas-correlation-python/#example-numpy-correlation-calculation\n",
    "test_r = x.corr(y)\n",
    "print(f\"r: {test_r}\")"
   ]
  },
  {
   "cell_type": "markdown",
   "id": "2fc6d810-7ec1-4a01-bb18-c2a752ff6541",
   "metadata": {},
   "source": [
    "**B) What is the correlation coefficient (r) between genome size and ungapped genome size? (round to 3 decimals) (1 mark)**"
   ]
  },
  {
   "cell_type": "markdown",
   "id": "b4a02cf5-7ae2-40e1-be8e-cc25a34a2b26",
   "metadata": {},
   "source": [
    "0.997"
   ]
  },
  {
   "cell_type": "markdown",
   "id": "23ac5115-ef86-4df4-b5d0-a66512577672",
   "metadata": {},
   "source": [
    "---"
   ]
  },
  {
   "cell_type": "markdown",
   "id": "1a79fdf5-7370-4f02-9309-ed4e84428c96",
   "metadata": {},
   "source": [
    "### Task 5\n",
    "\n",
    "I want to compare the distribution of assembly levels (complete genome, chromosome, contig, etc) between types of genomes in the dataset. \n",
    "\n",
    "**A) Create a new dataframe that groups genomes by** `['group']` **, then by** `['assembly_level']` **, showing the genome counts. Then, pivot the dataframe to show the two categories as row and column headers respectively. Scale the values in each row as a percentage of the total row values. Display the dataframe. (3 marks)**"
   ]
  },
  {
   "cell_type": "code",
   "execution_count": 9,
   "id": "62d2d7bb-ebd0-4d4a-90b4-f77dc567cc21",
   "metadata": {},
   "outputs": [
    {
     "name": "stdout",
     "output_type": "stream",
     "text": [
      "      group   assembly_level  count\n",
      "0   archaea       Chromosome     22\n",
      "1   archaea  Complete Genome    584\n",
      "2   archaea           Contig   1472\n",
      "3   archaea         Scaffold   1461\n",
      "4  bacteria       Chromosome   1876\n",
      "assembly_level  Chromosome  Complete Genome     Contig   Scaffold\n",
      "group                                                            \n",
      "archaea           0.621645        16.501837  41.593671  41.282848\n",
      "bacteria          1.546642        12.544623  45.881529  40.027206\n",
      "fungi             4.616420         2.987887  28.654105  63.741588\n",
      "invertebrate     42.989396         0.403972  23.211581  33.395051\n",
      "plant            47.336607         1.737816  15.035890  35.889686\n"
     ]
    }
   ],
   "source": [
    "### YOUR CODE HERE ###\n",
    "# group, count and add index\n",
    "assembly_counts = final_df.groupby([\"group\", \"assembly_level\"]).size().reset_index(name=\"count\")\n",
    "print(assembly_counts.head())\n",
    "\n",
    "# pivot so index is group, column is assembly level\n",
    "pivot_df = assembly_counts.pivot(index=\"group\", columns=\"assembly_level\", values=\"count\")\n",
    "\n",
    "# calculate percentages for each row\n",
    "pivot_df = pivot_df.div(pivot_df.sum(axis=1), axis=0) * 100\n",
    "\n",
    "# Display the dataframe\n",
    "print(pivot_df.head())"
   ]
  },
  {
   "cell_type": "markdown",
   "id": "481acff0-7ca9-4601-8c8d-a5616ff33b82",
   "metadata": {},
   "source": [
    "**B) Create a stacked bar plot using the above dataframe (3 marks). The plot must have the following:**\n",
    "- A title\n",
    "- X and Y axis labels\n",
    "- The legend outside of the plot area, with the labels matching the order of how they are displayed on the bars"
   ]
  },
  {
   "cell_type": "code",
   "execution_count": 10,
   "id": "b186320e-e13f-43b6-a9bc-e4353c91248b",
   "metadata": {},
   "outputs": [
    {
     "data": {
      "image/png": "[encoded data removed]",
      "text/plain": [
       "<Figure size 640x480 with 1 Axes>"
      ]
     },
     "metadata": {},
     "output_type": "display_data"
    }
   ],
   "source": [
    "### YOUR CODE HERE ###\n",
    "fig, ax = plt.subplots()\n",
    "\n",
    "# labels\n",
    "assembly_levels = pivot_df.columns.tolist()\n",
    "\n",
    "# generate stacked bar plot\n",
    "# https://matplotlib.org/stable/gallery/lines_bars_and_markers/bar_stacked.html\n",
    "bottom = np.zeros(len(pivot_df))\n",
    "\n",
    "for i, level in enumerate(assembly_levels):\n",
    "    ax.bar(\n",
    "        pivot_df.index, pivot_df[level], label=level, bottom=bottom\n",
    "    )\n",
    "    bottom += pivot_df[level]\n",
    "\n",
    "ax.set_xlabel(\"Group\")\n",
    "ax.set_ylabel(\"Percentage of Genomes (%)\")\n",
    "ax.set_title(\"Distribution of Assembly Levels\")\n",
    "\n",
    "# fix labels\n",
    "plt.xticks(rotation=90, ha=\"center\")\n",
    "\n",
    "# legend, moved out and flipped\n",
    "handles, labels = ax.get_legend_handles_labels()\n",
    "ax.legend(handles[::-1], labels[::-1], title=\"Assembly Level\", bbox_to_anchor=(1.02, 1), loc=\"upper left\")\n",
    "\n",
    "# Show the plot\n",
    "plt.show()"
   ]
  },
  {
   "cell_type": "markdown",
   "id": "d301df8d-7395-42a8-bd34-cccbb74619a2",
   "metadata": {},
   "source": [
    "---"
   ]
  },
  {
   "cell_type": "markdown",
   "id": "63de68e5-41a1-4a12-a627-d6086bef06a1",
   "metadata": {},
   "source": [
    "## Part 3: Labelling phylogenomic trees \n",
    "\n",
    "**/7 marks**"
   ]
  },
  {
   "cell_type": "markdown",
   "id": "efbe6a5e-9b4d-4df2-8225-b15c39e8b593",
   "metadata": {},
   "source": [
    "Python does have several libraries for parsing FASTA files, aligning sequences, creating/visualizing trees, etc. One major one is Biopython (https://biopython.org/docs/latest/index.html). However, for this assignment I have made the tree using other command line tools.\n",
    "\n",
    "A brief explanation of the steps I used, for your interest only:\n",
    "\n",
    "- Filtered the genome dataset to only refseq genomes under `vertebrate_mammalian` (from experience, rendering a 100k+ node tree will crash the online visualizer...)\n",
    "- Exported the accession numbers as a text file (`genome_accessions.txt`)\n",
    "- Ran the program `GToTree` (https://github.com/AstrobioMike/GToTree), with the following code:\n",
    "\n",
    "```bash\n",
    "GToTree -a genome_accessions.txt -H Universal -j 20 -o ToL -G 0 -B\n",
    "```\n",
    "\n",
    "GToTree is a convenient pipeline that combines several other command line bioinformatics software. It uses HMMs (`HMMER`) to find a set of shared marker genes within input genomes (which can be FASTA files uploaded by the user or NCBI accessions that it will download). Then, it aligns them (`MUSCLE`), concatenates the alignments, and finally uses `FastTree`/`IQ-Tree` to create a *phylogenomic* tree of the genomes. The command `-H Universal` in the run code specifies to use the universal 16 marker gene set (Hug et al. 2016), which is a set of ribosomal genes shared between all three domains (bacteria, archaea, eukaryotes). In theory, these could be used for any tree, though it may not be ideal for resolving evolutionary relationships for closely related clades...\n",
    "\n",
    "\n",
    "---"
   ]
  },
  {
   "cell_type": "markdown",
   "id": "e19dd208-ef49-4edb-9d29-26b2e117357e",
   "metadata": {},
   "source": [
    "### Task 6\n",
    "\n",
    "\n",
    "The output tree file (`mammal_tree.nwk`) is provided. To visualize it, go to the online Interactive Tree of Life tool (https://itol.embl.de/upload.cgi), select the tree file under Choose File, and click Upload. \n",
    "\n",
    "As you can see, it automatically renders a circular tree and labels it with the accession numbers. We would like to replace the labels with something more informative, such as the species name. \n",
    "\n",
    "Run the following code to generate a list of tree nodes (as a dataframe):"
   ]
  },
  {
   "cell_type": "code",
   "execution_count": 11,
   "id": "d55c8fc4-d6cc-4dad-b801-01d8b654bc4c",
   "metadata": {},
   "outputs": [
    {
     "name": "stdout",
     "output_type": "stream",
     "text": [
      "Requirement already satisfied: Biopython in c:\\users\\zhang\\appdata\\local\\programs\\python\\python311\\lib\\site-packages (1.85)\n",
      "Requirement already satisfied: numpy in c:\\users\\zhang\\appdata\\local\\programs\\python\\python311\\lib\\site-packages (from Biopython) (2.2.3)\n"
     ]
    },
    {
     "name": "stderr",
     "output_type": "stream",
     "text": [
      "\n",
      "[notice] A new release of pip is available: 24.0 -> 25.0.1\n",
      "[notice] To update, run: python.exe -m pip install --upgrade pip\n"
     ]
    },
    {
     "data": {
      "text/html": [
       "<div>\n",
       "<style scoped>\n",
       "    .dataframe tbody tr th:only-of-type {\n",
       "        vertical-align: middle;\n",
       "    }\n",
       "\n",
       "    .dataframe tbody tr th {\n",
       "        vertical-align: top;\n",
       "    }\n",
       "\n",
       "    .dataframe thead th {\n",
       "        text-align: right;\n",
       "    }\n",
       "</style>\n",
       "<table border=\"1\" class=\"dataframe\">\n",
       "  <thead>\n",
       "    <tr style=\"text-align: right;\">\n",
       "      <th></th>\n",
       "    </tr>\n",
       "    <tr>\n",
       "      <th>#assembly_accession</th>\n",
       "    </tr>\n",
       "  </thead>\n",
       "  <tbody>\n",
       "    <tr>\n",
       "      <th>GCF_023721935.1</th>\n",
       "    </tr>\n",
       "    <tr>\n",
       "      <th>GCF_018350215.1</th>\n",
       "    </tr>\n",
       "    <tr>\n",
       "      <th>GCF_024362965.1</th>\n",
       "    </tr>\n",
       "    <tr>\n",
       "      <th>GCF_028018385.1</th>\n",
       "    </tr>\n",
       "    <tr>\n",
       "      <th>GCF_007474595.2</th>\n",
       "    </tr>\n",
       "    <tr>\n",
       "      <th>...</th>\n",
       "    </tr>\n",
       "    <tr>\n",
       "      <th>GCF_027475565.1</th>\n",
       "    </tr>\n",
       "    <tr>\n",
       "      <th>GCF_016509475.1</th>\n",
       "    </tr>\n",
       "    <tr>\n",
       "      <th>GCF_003327715.1</th>\n",
       "    </tr>\n",
       "    <tr>\n",
       "      <th>GCF_018350195.1</th>\n",
       "    </tr>\n",
       "    <tr>\n",
       "      <th>GCF_028533385.1</th>\n",
       "    </tr>\n",
       "  </tbody>\n",
       "</table>\n",
       "<p>231 rows × 0 columns</p>\n",
       "</div>"
      ],
      "text/plain": [
       "Empty DataFrame\n",
       "Columns: []\n",
       "Index: [GCF_023721935.1, GCF_018350215.1, GCF_024362965.1, GCF_028018385.1, GCF_007474595.2, GCF_022079265.1, GCF_018350155.1, GCF_022837055.1, GCF_000260355.1, GCF_014898055.3, GCF_024139225.1, GCF_027595985.1, GCF_029834395.1, GCF_030445035.1, GCF_015220235.1, GCF_000299155.1, GCF_000243295.1, GCF_030014295.1, GCF_024166365.1, GCF_000298275.1, GCF_000313985.2, GCF_017591425.1, GCF_030435755.1, GCF_033115175.1, GCF_964237555.1, GCF_004115215.2, GCF_015852505.1, GCF_016433145.1, GCF_027887165.1, GCF_019393635.1, GCF_016432865.1, GCF_902635505.1, GCF_011100635.1, GCF_028583685.1, GCF_002099425.1, GCF_900497805.2, GCF_014824575.3, GCF_000164805.1, GCF_011100555.1, GCF_016699345.2, GCF_009761245.1, GCF_001604975.1, GCF_030222135.1, GCF_015252025.1, GCF_003255815.1, GCF_008728515.1, GCF_024542745.1, GCF_037993035.1, GCF_003339765.1, GCF_000956065.1, GCF_006542625.1, GCF_028878055.3, GCF_009828535.3, GCF_028885625.2, GCF_028885655.2, GCF_000001405.40, GCF_029281585.2, GCF_028858775.2, GCF_029289425.2, GCF_001698545.2, GCF_007565055.1, GCF_009764315.1, GCF_002776525.5, GCF_000951035.1, GCF_000951045.1, GCF_000955945.1, GCF_000334495.1, GCF_027409185.1, GCF_000696425.1, GCF_020740685.1, GCF_000622305.1, GCF_903992535.2, GCF_014885135.2, GCF_000317375.1, GCF_018167655.1, GCF_950005125.1, GCF_902806735.1, GCF_943737965.1, GCF_003668045.3, GCF_017639785.1, GCF_903995425.1, GCF_003704035.1, GCF_004664715.2, GCF_007827085.1, GCF_949786415.1, GCF_903995435.1, GCF_011064425.1, GCF_036323735.1, GCF_004785775.1, GCF_011762505.1, GCF_947179515.1, GCF_008632895.1, GCF_000001635.27, GCF_900095145.1, GCF_030254825.1, GCF_907164565.1, GCF_000151885.1, GCF_019054845.1, GCF_024711535.1, GCF_023159225.1, ...]\n",
       "\n",
       "[231 rows x 0 columns]"
      ]
     },
     "execution_count": 11,
     "metadata": {},
     "output_type": "execute_result"
    }
   ],
   "source": [
    "#you only need to do this once, you can comment this line out after\n",
    "!pip install Biopython \n",
    "\n",
    "from Bio import Phylo\n",
    "tree = Phylo.read('mammal_tree.nwk', \"newick\")\n",
    "\n",
    "#extracting nodes as a dataframe column\n",
    "tree_nodes = pd.DataFrame([node.name for node in tree.get_terminals()], columns=['#assembly_accession'])\n",
    "tree_nodes = tree_nodes.set_index('#assembly_accession') #setting column as index\n",
    "\n",
    "tree_nodes #take a look at the df"
   ]
  },
  {
   "cell_type": "markdown",
   "id": "06c5e9c2-6401-445a-a4a6-5b6708c27b02",
   "metadata": {},
   "source": [
    "**A) Create another column in the** `tree_nodes` **dataframe that maps the associated species name** (`['organism_name']`) **to the accession. Display the dataframe. (2 marks)** \n",
    "Hint: use `df.set_index()` to set a column as an index. The resulting dataframe should only have 1 column (not including the index)."
   ]
  },
  {
   "cell_type": "code",
   "execution_count": 12,
   "id": "37d84d74-cc41-45c9-aafa-a0b7c41e39d5",
   "metadata": {},
   "outputs": [
    {
     "name": "stdout",
     "output_type": "stream",
     "text": [
      "                                organism_name\n",
      "#assembly_accession                          \n",
      "GCF_023721935.1                Panthera uncia\n",
      "GCF_018350215.1                  Panthera leo\n",
      "GCF_024362965.1               Panthera pardus\n",
      "GCF_028018385.1             Neofelis nebulosa\n",
      "GCF_007474595.2               Lynx canadensis\n",
      "...                                       ...\n",
      "GCF_027475565.1              Acinonyx jubatus\n",
      "GCF_016509475.1      Prionailurus bengalensis\n",
      "GCF_003327715.1                 Puma concolor\n",
      "GCF_018350195.1               Panthera tigris\n",
      "GCF_028533385.1                 Panthera onca\n",
      "\n",
      "[231 rows x 1 columns]\n"
     ]
    }
   ],
   "source": [
    "### YOUR CODE HERE ###\n",
    "\n",
    "# create a mapping using refseq genome \n",
    "mapping = refseq_df.set_index(\"#assembly_accession\")[\"organism_name\"]\n",
    "\n",
    "# map to create column\n",
    "tree_nodes[\"organism_name\"] = tree_nodes.index.map(mapping)\n",
    "\n",
    "# Display the updated dataframe\n",
    "print(tree_nodes)"
   ]
  },
  {
   "cell_type": "markdown",
   "id": "bb1dddbe-8012-42ae-89e9-7c8f457deaa8",
   "metadata": {},
   "source": [
    "**B) Export the dataframe as a .csv file. Include the** `header=False` **parameter to ignore the column names.** "
   ]
  },
  {
   "cell_type": "code",
   "execution_count": 13,
   "id": "939f111a-5a1c-42f6-802b-b875b5b196bf",
   "metadata": {},
   "outputs": [],
   "source": [
    "### YOUR CODE HERE ###\n",
    "tree_nodes.to_csv(\"tree_nodes.csv\", header=False)"
   ]
  },
  {
   "cell_type": "markdown",
   "id": "d7f8bf65-e41e-41ec-8490-3acc3cc16611",
   "metadata": {},
   "source": [
    "Open the .csv file in a text editor, and append the following 3 lines before the data:\n",
    "\n",
    "LABELS\n",
    "\n",
    "SEPARATOR COMMA\n",
    "\n",
    "DATA\n",
    "\n",
    "Save the file, and click + drag it into the iToL viewer with your tree. The labels should now be updated with species names. \n",
    "\n",
    "---"
   ]
  },
  {
   "cell_type": "markdown",
   "id": "c8f92a3b-214f-42fa-b914-6051213a34c4",
   "metadata": {},
   "source": [
    "### Task 7\n",
    "\n",
    "In addition to text labels, color-coding the branches of our tree can help visualize phylogenetic relationships between groups. \n",
    "\n",
    "The `taxonomy_key.csv` file contains detailed lineage information about each genome. It was also retrieved from the NCBI FTP site under `/pub/taxonomy/`, but I have reformatted it to make it easier to work with. \n",
    "\n",
    "**A) Using this file, create and display a dataframe that maps each tree node (by accession) to a color hex code based on the value in the** `['Order']` **column: (2 marks)**\n",
    "\n",
    "Carnivora: Red (`'#ff0000'`) \\\n",
    "Artiodactyla: Blue (`'#0000ff'`) \\\n",
    "Rodentia: Green (`'#00ff00'`) \\\n",
    "Primates: Orange (`'#ff6600'`) \\\n",
    "Chiroptera: Purple (`'#800080'`) \\\n",
    "Monotremata: Yellow (`'#ffff00'`)\\\n",
    "Other branches can remain black (`'#000000'`). \n",
    "\n",
    "The resulting dataframe (or series) should only have 1 column (not including the index)."
   ]
  },
  {
   "cell_type": "code",
   "execution_count": 14,
   "id": "3c41e481-fdcf-4c98-8723-f7bcaa0e853a",
   "metadata": {},
   "outputs": [
    {
     "data": {
      "text/html": [
       "<div>\n",
       "<style scoped>\n",
       "    .dataframe tbody tr th:only-of-type {\n",
       "        vertical-align: middle;\n",
       "    }\n",
       "\n",
       "    .dataframe tbody tr th {\n",
       "        vertical-align: top;\n",
       "    }\n",
       "\n",
       "    .dataframe thead th {\n",
       "        text-align: right;\n",
       "    }\n",
       "</style>\n",
       "<table border=\"1\" class=\"dataframe\">\n",
       "  <thead>\n",
       "    <tr style=\"text-align: right;\">\n",
       "      <th></th>\n",
       "      <th>color</th>\n",
       "    </tr>\n",
       "    <tr>\n",
       "      <th>#assembly_accession</th>\n",
       "      <th></th>\n",
       "    </tr>\n",
       "  </thead>\n",
       "  <tbody>\n",
       "    <tr>\n",
       "      <th>GCF_023721935.1</th>\n",
       "      <td>#ff0000</td>\n",
       "    </tr>\n",
       "    <tr>\n",
       "      <th>GCF_018350215.1</th>\n",
       "      <td>#ff0000</td>\n",
       "    </tr>\n",
       "    <tr>\n",
       "      <th>GCF_024362965.1</th>\n",
       "      <td>#ff0000</td>\n",
       "    </tr>\n",
       "    <tr>\n",
       "      <th>GCF_028018385.1</th>\n",
       "      <td>#ff0000</td>\n",
       "    </tr>\n",
       "    <tr>\n",
       "      <th>GCF_007474595.2</th>\n",
       "      <td>#ff0000</td>\n",
       "    </tr>\n",
       "    <tr>\n",
       "      <th>...</th>\n",
       "      <td>...</td>\n",
       "    </tr>\n",
       "    <tr>\n",
       "      <th>GCF_027475565.1</th>\n",
       "      <td>#ff0000</td>\n",
       "    </tr>\n",
       "    <tr>\n",
       "      <th>GCF_016509475.1</th>\n",
       "      <td>#ff0000</td>\n",
       "    </tr>\n",
       "    <tr>\n",
       "      <th>GCF_003327715.1</th>\n",
       "      <td>#ff0000</td>\n",
       "    </tr>\n",
       "    <tr>\n",
       "      <th>GCF_018350195.1</th>\n",
       "      <td>#ff0000</td>\n",
       "    </tr>\n",
       "    <tr>\n",
       "      <th>GCF_028533385.1</th>\n",
       "      <td>#ff0000</td>\n",
       "    </tr>\n",
       "  </tbody>\n",
       "</table>\n",
       "<p>231 rows × 1 columns</p>\n",
       "</div>"
      ],
      "text/plain": [
       "                       color\n",
       "#assembly_accession         \n",
       "GCF_023721935.1      #ff0000\n",
       "GCF_018350215.1      #ff0000\n",
       "GCF_024362965.1      #ff0000\n",
       "GCF_028018385.1      #ff0000\n",
       "GCF_007474595.2      #ff0000\n",
       "...                      ...\n",
       "GCF_027475565.1      #ff0000\n",
       "GCF_016509475.1      #ff0000\n",
       "GCF_003327715.1      #ff0000\n",
       "GCF_018350195.1      #ff0000\n",
       "GCF_028533385.1      #ff0000\n",
       "\n",
       "[231 rows x 1 columns]"
      ]
     },
     "execution_count": 14,
     "metadata": {},
     "output_type": "execute_result"
    }
   ],
   "source": [
    "### YOUR CODE HERE ###\n",
    "# load\n",
    "taxonomy_df = pd.read_csv(\"taxonomy_key.csv\")\n",
    "\n",
    "# mapping\n",
    "order_to_color = {\n",
    "    \"Carnivora\": \"#ff0000\",\n",
    "    \"Artiodactyla\": \"#0000ff\",\n",
    "    \"Rodentia\": \"#00ff00\",\n",
    "    \"Primates\": \"#ff6600\",\n",
    "    \"Chiroptera\": \"#800080\",\n",
    "    \"Monotremata\": \"#ffff00\"\n",
    "}\n",
    "\n",
    "# map each color, use #000000 for black instead of #ffffff\n",
    "taxonomy_df[\"color\"] = taxonomy_df[\"Order\"].map(order_to_color).fillna(\"#000000\")\n",
    "\n",
    "# Keep only the accession index and color column\n",
    "mapping = taxonomy_df.set_index(\"#assembly_accession\")[\"color\"]\n",
    "\n",
    "# map to create column\n",
    "coloured_nodes = tree_nodes\n",
    "coloured_nodes[\"color\"] = tree_nodes.index.map(mapping).fillna(\"#000000\")\n",
    "coloured_nodes = coloured_nodes.drop(\"organism_name\", axis=1)\n",
    "\n",
    "# Display the final dataframe\n",
    "coloured_nodes"
   ]
  },
  {
   "cell_type": "markdown",
   "id": "9ae9af7f-9366-4f64-b6c6-f688a329676a",
   "metadata": {},
   "source": [
    "**B) Export the file the same way as in Task 6.**"
   ]
  },
  {
   "cell_type": "code",
   "execution_count": 15,
   "id": "2740962d-a483-4924-a2e4-3a23a5d59376",
   "metadata": {},
   "outputs": [],
   "source": [
    "### YOUR CODE HERE ###\n",
    "coloured_nodes.to_csv(\"taxonomy.csv\", header=False)"
   ]
  },
  {
   "cell_type": "markdown",
   "id": "8939bc59-fe09-4a6c-99bd-d3bd98bd47b1",
   "metadata": {},
   "source": [
    "Open the .csv file in a text editor, and append the following 5 lines before the data:\n",
    "\n",
    "DATASET_COLORSTRIP\n",
    "\n",
    "SEPARATOR COMMA\t\n",
    "\n",
    "DATASET_LABEL,Order\n",
    "\n",
    "COLOR_BRANCHES,1\n",
    "\n",
    "DATA\n",
    "\n",
    "\n",
    "Save the file, and click + drag it into the iToL viewer with your tree. The branches should now be color-coded by taxonomy."
   ]
  },
  {
   "cell_type": "markdown",
   "id": "ccab19e0-4e27-41b6-ad4c-969d7efc79e8",
   "metadata": {},
   "source": [
    "**C) Based on what you see, are there any genomes that appear to be either taxonomically misclassified OR incorrectly placed on the tree? List their scientific names below: (1 mark)**"
   ]
  },
  {
   "cell_type": "markdown",
   "id": "9b65c054-5b3b-4713-b1e9-6f7ac4a79dd3",
   "metadata": {},
   "source": [
    "Misplaced orange and green\n",
    "- Propithecus coquereli\n",
    "- Mus caroli\n",
    "- Ictidomys tridecemlineatus\n",
    "\n",
    "Misplaced purple\n",
    "- Sturnira hondurensis\n",
    "\n",
    "Black in the middle of oranges\n",
    "- Cynocephalus volans\n",
    "- Galeopterus variegatus\n",
    "- Tupaia chinensis"
   ]
  },
  {
   "cell_type": "markdown",
   "id": "6ff35396-7fcd-4e4c-8567-82c34b1ff17c",
   "metadata": {},
   "source": [
    "---"
   ]
  },
  {
   "cell_type": "markdown",
   "id": "53a1ffd1-008f-421b-bc6a-d9771dfaf25e",
   "metadata": {},
   "source": [
    "### Task 8\n",
    "\n",
    "Find the Monotremes, and re-root the tree on one of them by hovering over a branch and right clicking --> Tree structure --> Re-root the tree here. On the Control panel in the top right, navigate to the Basic tab and increase the Label Font Size and Branch Line Width to something readable. Then, go to the Export tab and export the Full Image as a PDF. \n",
    "\n",
    "**Submit the PDF tree file (2 marks) along with the assignment notebook to the dropbox for marking.**"
   ]
  },
  {
   "cell_type": "markdown",
   "id": "06b5ffb7-9635-440b-8ae5-0e4e6f2d04ce",
   "metadata": {},
   "source": [
    "---"
   ]
  },
  {
   "cell_type": "markdown",
   "id": "fa18fa3c-9d6c-4b91-a653-c43b329dae96",
   "metadata": {},
   "source": [
    "**END OF ASSIGNMENT**"
   ]
  }
 ],
 "metadata": {
  "kernelspec": {
   "display_name": "Python 3 (ipykernel)",
   "language": "python",
   "name": "python3"
  },
  "language_info": {
   "codemirror_mode": {
    "name": "ipython",
    "version": 3
   },
   "file_extension": ".py",
   "mimetype": "text/x-python",
   "name": "python",
   "nbconvert_exporter": "python",
   "pygments_lexer": "ipython3",
   "version": "3.12.7"
  }
 },
 "nbformat": 4,
 "nbformat_minor": 5
}
